{
 "cells": [
  {
   "cell_type": "markdown",
   "metadata": {
    "toc": true
   },
   "source": [
    "<div style=\"background-color:Lavender; color:DarkBlue; padding:30px;\">\n",
    "<h1>Table of Contents<span class=\"tocSkip\"></span></h1>\n",
    "<div class=\"toc\"><ul class=\"toc-item\"><li><span><a href=\"#-Concept-of-Bayes'-Theorem\" data-toc-modified-id=\"-Concept-of-Bayes'-Theorem-1\"><span class=\"toc-item-num\">1&nbsp;&nbsp;</span><font face=\"gotham\" color=\"purple\"> Concept of Bayes' Theorem</font></a></span><ul class=\"toc-item\"><li><span><a href=\"#-Example-1\" data-toc-modified-id=\"-Example-1-1.1\"><span class=\"toc-item-num\">1.1&nbsp;&nbsp;</span><font face=\"gotham\" color=\"purple\"> Example 1</font></a></span></li><li><span><a href=\"#-Example-2\" data-toc-modified-id=\"-Example-2-1.2\"><span class=\"toc-item-num\">1.2&nbsp;&nbsp;</span><font face=\"gotham\" color=\"purple\"> Example 2</font></a></span></li><li><span><a href=\"#-Example-3\" data-toc-modified-id=\"-Example-3-1.3\"><span class=\"toc-item-num\">1.3&nbsp;&nbsp;</span><font face=\"gotham\" color=\"purple\"> Example 3</font></a></span></li><li><span><a href=\"#-Example-4\" data-toc-modified-id=\"-Example-4-1.4\"><span class=\"toc-item-num\">1.4&nbsp;&nbsp;</span><font face=\"gotham\" color=\"purple\"> Example 4</font></a></span></li><li><span><a href=\"#-Example-5\" data-toc-modified-id=\"-Example-5-1.5\"><span class=\"toc-item-num\">1.5&nbsp;&nbsp;</span><font face=\"gotham\" color=\"purple\"> Example 5</font></a></span></li><li><span><a href=\"#-Example-6\" data-toc-modified-id=\"-Example-6-1.6\"><span class=\"toc-item-num\">1.6&nbsp;&nbsp;</span><font face=\"gotham\" color=\"purple\"> Example 6</font></a></span></li></ul></li></ul></div>\n",
    "</div>"
   ]
  },
  {
   "cell_type": "code",
   "execution_count": 13,
   "metadata": {},
   "outputs": [],
   "source": [
    "import numpy as np\n",
    "import matplotlib.pyplot as plt\n",
    "plt.style.use('ggplot')"
   ]
  },
  {
   "cell_type": "markdown",
   "metadata": {},
   "source": [
    "# <font face=\"gotham\" color=\"purple\"> Concept of Bayes' Theorem</font>"
   ]
  },
  {
   "cell_type": "markdown",
   "metadata": {},
   "source": [
    "The **Bayes' Theorem** is occasionally called **inverse probability theorem**. As the name suggests, once we have known $p(A|B)$, the Bayes' Theorem can tell us something about $P(B|A)$. "
   ]
  },
  {
   "cell_type": "markdown",
   "metadata": {},
   "source": [
    "To see how Bayes' Theorem is derived, start from conditional probability\n",
    "\n",
    "$$\n",
    "P(A|B)P(B)=P(A\\cap B)\\\\\n",
    "P(B|A)P(A)=P(A\\cap B)\n",
    "$$"
   ]
  },
  {
   "cell_type": "markdown",
   "metadata": {},
   "source": [
    "Equate them and arrange, we obtain the famous Bayes' Theorem:\n",
    "\n",
    "$$\n",
    "P(B|A) = \\frac{P(A|B)P(B)}{P(A)}\n",
    "$$"
   ]
  },
  {
   "cell_type": "markdown",
   "metadata": {},
   "source": [
    "If there are $k$ partitions of $B$, $P(A)$ can bee explicitly written in total probability form\n",
    "\n",
    "$$\n",
    "P(B_i|A)=\\frac{P(A|B_i)P(B_i)}{\\sum_{i=0}^k P(A|B_i)P(B_i)}\n",
    "$$"
   ]
  },
  {
   "cell_type": "markdown",
   "metadata": {},
   "source": [
    "Since Bayes' Theorem can be somewhat counter-intuitive, it might take some time to grasp the tricky logic. We will go through some examples, strongly advise to study them thoroughly."
   ]
  },
  {
   "cell_type": "markdown",
   "metadata": {},
   "source": [
    "## <font face=\"gotham\" color=\"purple\"> Example 1</font>"
   ]
  },
  {
   "cell_type": "markdown",
   "metadata": {},
   "source": [
    "A certain disease affects about 1 out of 10,000 people. There is a test to check whether the person has the disease. The test is quite accurate. In particular, we know that\n",
    "\n",
    "1. the probability that the test result is positive (suggesting the person has the disease), given that the person does not have the disease, is only 2 percent;\n",
    "\n",
    "2. the probability that the test result is negative (suggesting the person does not have the disease), given that the person has the disease, is only 1 percent.\n",
    "\n",
    "A random person gets tested for the disease and the result comes back positive. What is the probability that the person has the disease?"
   ]
  },
  {
   "cell_type": "markdown",
   "metadata": {},
   "source": [
    "<div style=\"background-color:Lavender; color:DarkBlue; padding:30px;\">\n",
    "$\\text{Event A}$: $\\text{the test result is positive}$<br>\n",
    "$\\text{Event B}$: $\\text{the person has the disease}$\n",
    "\n",
    "\n",
    "\n",
    "$$P(B|A) = \\frac{P(A|B)P(B)}{P(A|B)P(B)+P(A|B^c)P(B^c)}= \\frac{(1- .01)\\times.0001}{(1- .01)\\times.0001+.02\\times(1-.0001)}$$\n",
    "</div>"
   ]
  },
  {
   "cell_type": "code",
   "execution_count": 1,
   "metadata": {},
   "outputs": [
    {
     "name": "stdout",
     "output_type": "stream",
     "text": [
      "The probability that a person have positive results and having the disease is 0.493%.\n"
     ]
    }
   ],
   "source": [
    "pB_A =( .99*.0001)/(.99*.0001+.02*.999)\n",
    "print('The probability that a person have positive results and having the disease is %.3f%%.'%(pB_A*100))"
   ]
  },
  {
   "cell_type": "markdown",
   "metadata": {},
   "source": [
    "<div style=\"background-color:Lavender; color:DarkBlue; padding:30px;\">\n",
    "The result comes with a surprise. But if you dwell on it a while, you will notice an obvious fact that there are much more 'healthy people'(people who do not have this type of disease) i.e.  $9999:1$. Even if you got to guess, you should consider this fact, which we call **prior**. It means even if a person has a positive result, yet he is still likely to be from healthy group.<br><br>\n",
    "</div>"
   ]
  },
  {
   "cell_type": "markdown",
   "metadata": {},
   "source": [
    "## <font face=\"gotham\" color=\"purple\"> Example 2</font>"
   ]
  },
  {
   "cell_type": "markdown",
   "metadata": {},
   "source": [
    "Suppose a patient has an unidentified lesion in the liver, that internist recommend abdominal MRI for firmer evidences to exclude critical diseases. The sensitivity (true positive) rate of MRI is $92\\%$, the prevalence of critical liver disease is $.06\\%$. \n",
    "\n",
    "The question is if the result is positive, how likely this patient has critical liver disease?"
   ]
  },
  {
   "cell_type": "markdown",
   "metadata": {},
   "source": [
    "<div style=\"background-color:Lavender; color:DarkBlue; padding:30px;\">\n",
    "$\\text{Event A}$: $\\text{MRI positive results}$<br>\n",
    "$\\text{Event B}$: $\\text{the person has critical disease}$\n",
    "\n",
    "$$p(B|A) = \\frac{P(A|B)P(B)}{P(A|B)P(B)+P(A|B^C)P(B^C)} = \\frac{.92\\times .0006}{.92\\times .0006+.08\\times .9994}$$\n",
    "</div>"
   ]
  },
  {
   "cell_type": "code",
   "execution_count": 3,
   "metadata": {},
   "outputs": [
    {
     "name": "stdout",
     "output_type": "stream",
     "text": [
      "The probability that a person who has symptoms truly have critical liver disease is 0.686%.\n"
     ]
    }
   ],
   "source": [
    "pB_A = (0.92*.0006)/(.92*.0006+.08*.9994)\n",
    "print('The probability that a person who has symptoms truly have critical liver disease is %.3f%%.'%(pB_A*100))"
   ]
  },
  {
   "cell_type": "markdown",
   "metadata": {},
   "source": [
    "## <font face=\"gotham\" color=\"purple\"> Example 3</font>"
   ]
  },
  {
   "cell_type": "markdown",
   "metadata": {},
   "source": [
    "A factory produces an item using three different brands of machines—$\\text{A}$, $\\text{B}$, and $\\text{C}$—which account for $20\\%$, $30\\%$, and $50\\%$ of output respectively. Of the items produced by machine $\\text{A}$, $5\\%$ are defective; similarly, $3\\%$ of machine $\\text{B}$'s items and $1\\%$ of machine $\\text{C}$'s are defective. If a randomly selected item is defective, what is the probability it was produced by machine $\\text{C}$?"
   ]
  },
  {
   "cell_type": "markdown",
   "metadata": {},
   "source": [
    "<div style=\"background-color:Lavender; color:DarkBlue; padding:30px;\">\n",
    "$\\text{Event A}$: $\\text{Produced by machine A}$<br>\n",
    "$\\text{Event B}$: $\\text{Produced by machine B}$<br>\n",
    "$\\text{Event C}$: $\\text{Produced by machine C}$<br>  \n",
    "$\\text{Event D}$: $\\text{Defective product}$  \n",
    "$$\n",
    "P(C|D) = \\frac{P(D|C)P(C)}{P(D|A)P(A)+P(D|B)P(B)+P(D|C)P(C)}\n",
    "$$\n",
    "</div>"
   ]
  },
  {
   "cell_type": "code",
   "execution_count": 5,
   "metadata": {},
   "outputs": [
    {
     "name": "stdout",
     "output_type": "stream",
     "text": [
      "The probability that a defective product made by machine C is 20.833%.\n"
     ]
    }
   ],
   "source": [
    "pB_A = .5*.01/(.2*.05+.3*.03+.5*.01)\n",
    "print('The probability that a defective product made by machine C is %.3f%%.'%(pB_A*100))"
   ]
  },
  {
   "cell_type": "markdown",
   "metadata": {},
   "source": [
    "## <font face=\"gotham\" color=\"purple\"> Example 4</font>"
   ]
  },
  {
   "cell_type": "markdown",
   "metadata": {},
   "source": [
    "Bag I contains 4 white and 6 black balls while Bag II contains 4 white and 3 black balls. One ball is drawn randomly from one of the bags and it is found to be black. Find the probability that it was drawn from Bag I."
   ]
  },
  {
   "cell_type": "markdown",
   "metadata": {},
   "source": [
    "<div style=\"background-color:Lavender; color:DarkBlue; padding:30px;\">\n",
    "$\\text{Event A}$: $\\text{black ball}$<br>\n",
    "$\\text{Event B}$: $\\text{from bag I}$<br>\n",
    "\n",
    "$$p(B|A) = \\frac{p(A|B)p(B)}{p(A)}= \\frac{\\frac{6}{10}\\frac{1}{2}}{\\frac{6}{10}\\frac{1}{2}+\\frac{3}{7}\\frac{1}{2}}$$\n",
    "</div>"
   ]
  },
  {
   "cell_type": "code",
   "execution_count": 6,
   "metadata": {},
   "outputs": [
    {
     "name": "stdout",
     "output_type": "stream",
     "text": [
      "The probability that the ball is from Bag I given it is black is 58.33333%.\n"
     ]
    }
   ],
   "source": [
    "pB_A = 6/10*.5/(6/10*.5+3/7*.5)\n",
    "print('The probability that the ball is from Bag I given it is black is %.5f%%.'%(pB_A*100))"
   ]
  },
  {
   "cell_type": "markdown",
   "metadata": {},
   "source": [
    "## <font face=\"gotham\" color=\"purple\"> Example 5</font>"
   ]
  },
  {
   "cell_type": "markdown",
   "metadata": {},
   "source": [
    "A man is known to speak truth 2 out of 3 times. He throws a die and reports that number obtained is a four. Find the probability that the number obtained is actually a four."
   ]
  },
  {
   "cell_type": "markdown",
   "metadata": {},
   "source": [
    "<div style=\"background-color:Lavender; color:DarkBlue; padding:30px;\">\n",
    "$\\text{Event A}$: $\\text{reports number 4}$<br>\n",
    "$\\text{Event B}$: $\\text{speak truth}$<br>\n",
    "$$   \n",
    "P(A|B)=\\frac{P(B|A)P(A)}{P(B|A)P(A)+P(B^C|A)P(A)}=\\frac{\\frac{2}{3}\\frac{1}{6}}{\\frac{2}{3}\\frac{1}{6}+\\frac{1}{3}\\frac{5}{6}}\n",
    "$$\n",
    "</div>"
   ]
  },
  {
   "cell_type": "code",
   "execution_count": 8,
   "metadata": {},
   "outputs": [
    {
     "name": "stdout",
     "output_type": "stream",
     "text": [
      "The probability that he truly obtains 4 given he speaks the truth is 28.571%.\n"
     ]
    }
   ],
   "source": [
    "pB_A = (1/6*2/3)/(1/6*2/3+5/6*1/3)\n",
    "print('The probability that he truly obtains 4 given he speaks the truth is %.3f%%.'%(pB_A*100))"
   ]
  },
  {
   "cell_type": "markdown",
   "metadata": {},
   "source": [
    "# <font face=\"gotham\" color=\"purple\"> Bayesian Inference </font>"
   ]
  },
  {
   "cell_type": "markdown",
   "metadata": {},
   "source": [
    "Bayes' Theorem won't be much helpful in scientific researches if it is only a tool for calculate the inverse probability. Without changing the theory, just reframe the definition, we will have a completely revolutionary view. "
   ]
  },
  {
   "cell_type": "markdown",
   "metadata": {},
   "source": [
    "$\\text{Event A}$: $\\text{Newly collected data}$<br>\n",
    "$\\text{Event B}$: $\\text{Hypothesis}$<br>\n",
    "$$\n",
    "P(B|A) = \\frac{P(A|B)P(B)}{P(A)} = \\frac{P(A|B)P(B)}{P(A|B)P(B)+P(A|B^c)P(B^c)}\n",
    "$$"
   ]
  },
  {
   "cell_type": "markdown",
   "metadata": {},
   "source": [
    "Hypothesis $\\text{B}$ has a probability $P(B)$ which is called **prior** in **Bayesian Inference**, $P(A|B)$ is the **likelihood** (exactly the same meaning as in maximum likelihood), $P(B|A)$ is the **posterior** meaning which is also your new prior before next data collection.\n",
    "\n",
    "The reason why $P(A|B)$ is called likelihood is actually quite intuitive, it measures how likely data $A$ will present given $B$ hypothesis is true. $P(A)$ is calculated by law of total probability based on $B$ and $B^C$ hypothesis."
   ]
  },
  {
   "cell_type": "markdown",
   "metadata": {},
   "source": [
    "If $B$ is called a hypothesis, then it expresses a subjective belief. Broadly speaking, you start with a scientific question and set forth two or more alternative hypotheses. You then assign a prior probability that each alternative hypothesis is true. Next, you collect data. Finally, you use Bayes’ Theorem to update the probability for each hypothesis considered."
   ]
  },
  {
   "cell_type": "markdown",
   "metadata": {},
   "source": [
    "What if we change the prior gradually in the first example above, from $1$ to $1000$ people out of $10000$, and rest parameters are the same, let's see how the posteriors change."
   ]
  },
  {
   "cell_type": "code",
   "execution_count": 18,
   "metadata": {},
   "outputs": [
    {
     "data": {
      "image/png": "[encoded data removed]",
      "text/plain": [
       "<Figure size 864x432 with 1 Axes>"
      ]
     },
     "metadata": {},
     "output_type": "display_data"
    }
   ],
   "source": [
    "p_B = np.linspace(.0001, .1, 100)\n",
    "pB_A =( .99*p_B)/(.99*p_B+.02*(1-p_B))\n",
    "fig, ax = plt.subplots(figsize=(12, 6))\n",
    "\n",
    "ax.plot(p_B, pB_A)\n",
    "ax.set_xlabel('Prior')\n",
    "ax.set_ylabel('Posterior')\n",
    "ax.set_title('Example 1')\n",
    "plt.show()"
   ]
  },
  {
   "cell_type": "markdown",
   "metadata": {},
   "source": [
    "## <font face=\"gotham\" color=\"purple\"> Probability Density Form of Bayesian Inference</font>"
   ]
  },
  {
   "cell_type": "markdown",
   "metadata": {},
   "source": [
    "To handle complicated issues, the integral version of Bayes' Theorem is our guideline, every Bayesian computation requires solving an integral numerically. \n",
    "\n",
    "$$\n",
    "p(\\theta \\mid D)=\\frac{ p(D \\mid \\theta)p(\\theta)}{p(D)}=\\frac{p(D \\mid \\theta)p(\\theta) }{\\int p(D \\mid \\theta) p(\\theta) d \\theta}\n",
    "$$"
   ]
  },
  {
   "cell_type": "markdown",
   "metadata": {},
   "source": [
    "where $\\theta$ is the parameter that we hypothesized which characterizes the distribution $p(\\theta)$, note that we change the notation from $P$ to $p$, the former represents probability mass function and latter represents probability density distribution, which will be illustrated in details in next chapter."
   ]
  },
  {
   "cell_type": "markdown",
   "metadata": {},
   "source": [
    "Some important differences has to be pointed out, density form has an _infinite number_ of hypotheses though bounds could be specified. And also the integral in the denominator won't always have a closed-form solution, which is why **Markov Chain Monte Carlo** is usually used for numerical computation of the integral.\n",
    "\n",
    "In some special cases you can derive posterior in closed-form, usually both prior and posterior share the same distribution but different parameters, such prior is called **conjugate prior**. "
   ]
  },
  {
   "cell_type": "code",
   "execution_count": null,
   "metadata": {},
   "outputs": [],
   "source": []
  }
 ],
 "metadata": {
  "kernelspec": {
   "display_name": "Python 3",
   "language": "python",
   "name": "python3"
  },
  "language_info": {
   "codemirror_mode": {
    "name": "ipython",
    "version": 3
   },
   "file_extension": ".py",
   "mimetype": "text/x-python",
   "name": "python",
   "nbconvert_exporter": "python",
   "pygments_lexer": "ipython3",
   "version": "3.8.8"
  },
  "toc": {
   "base_numbering": 1,
   "nav_menu": {},
   "number_sections": true,
   "sideBar": true,
   "skip_h1_title": false,
   "title_cell": "Table of Contents",
   "title_sidebar": "Contents",
   "toc_cell": true,
   "toc_position": {},
   "toc_section_display": true,
   "toc_window_display": false
  }
 },
 "nbformat": 4,
 "nbformat_minor": 4
}
